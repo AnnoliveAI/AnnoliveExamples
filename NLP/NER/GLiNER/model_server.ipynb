{
  "cells": [
    {
      "cell_type": "markdown",
      "metadata": {
        "id": "view-in-github",
        "colab_type": "text"
      },
      "source": [
        "<a href=\"https://colab.research.google.com/github/AnnoliveAI/AnnoliveExamples/blob/main/model_server.ipynb\" target=\"_parent\"><img src=\"https://colab.research.google.com/assets/colab-badge.svg\" alt=\"Open In Colab\"/></a>"
      ]
    },
    {
      "cell_type": "markdown",
      "metadata": {
        "id": "Ibwa3QeD6SjB"
      },
      "source": [
        "# Purpose: To demonstrate the running of flask app for the GLiNER model"
      ]
    },
    {
      "cell_type": "markdown",
      "metadata": {
        "id": "haHilEaE6SjC"
      },
      "source": [
        "# Install Required Libraries"
      ]
    },
    {
      "cell_type": "code",
      "execution_count": null,
      "metadata": {
        "id": "tKT9U-YX6SjD"
      },
      "outputs": [],
      "source": [
        "%%capture\n",
        "!pip install gliner"
      ]
    },
    {
      "cell_type": "markdown",
      "source": [
        "# Download Model Weights"
      ],
      "metadata": {
        "id": "FFW2xV5K6tkx"
      }
    },
    {
      "cell_type": "code",
      "source": [
        "from gliner import GLiNER\n",
        "model = GLiNER.from_pretrained(\"urchade/gliner_largev2\")"
      ],
      "metadata": {
        "id": "nmUisRtV6s67"
      },
      "execution_count": null,
      "outputs": []
    },
    {
      "cell_type": "markdown",
      "metadata": {
        "id": "I4XvRVYj6SjD"
      },
      "source": [
        "# Run Local App"
      ]
    },
    {
      "cell_type": "code",
      "source": [
        "!git clone https://github.com/AnnoliveAI/AnnoliveExamples"
      ],
      "metadata": {
        "id": "d2vAPoDB6gWG"
      },
      "execution_count": null,
      "outputs": []
    },
    {
      "cell_type": "code",
      "execution_count": null,
      "metadata": {
        "id": "dKcWdxT26SjD"
      },
      "outputs": [],
      "source": [
        "!python /content/AnnoliveExamples/NLP/NER/GLiNER/app.py & npx localtunnel --port 5000"
      ]
    }
  ],
  "metadata": {
    "language_info": {
      "name": "python"
    },
    "colab": {
      "provenance": [],
      "include_colab_link": true
    },
    "kernelspec": {
      "name": "python3",
      "display_name": "Python 3"
    }
  },
  "nbformat": 4,
  "nbformat_minor": 0
}